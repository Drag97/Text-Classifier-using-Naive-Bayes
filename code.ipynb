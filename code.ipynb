{
 "cells": [
  {
   "cell_type": "code",
   "execution_count": 1,
   "metadata": {},
   "outputs": [],
   "source": [
    "import pandas as pd\n",
    "import numpy as np\n",
    "import matplotlib.pyplot as plt\n",
    "import seaborn as sns\n",
    "%matplotlib inline"
   ]
  },
  {
   "cell_type": "code",
   "execution_count": 45,
   "metadata": {},
   "outputs": [
    {
     "data": {
      "text/html": [
       "<div>\n",
       "<style scoped>\n",
       "    .dataframe tbody tr th:only-of-type {\n",
       "        vertical-align: middle;\n",
       "    }\n",
       "\n",
       "    .dataframe tbody tr th {\n",
       "        vertical-align: top;\n",
       "    }\n",
       "\n",
       "    .dataframe thead th {\n",
       "        text-align: right;\n",
       "    }\n",
       "</style>\n",
       "<table border=\"1\" class=\"dataframe\">\n",
       "  <thead>\n",
       "    <tr style=\"text-align: right;\">\n",
       "      <th></th>\n",
       "      <th>joke_text</th>\n",
       "    </tr>\n",
       "    <tr>\n",
       "      <th>joke_id</th>\n",
       "      <th></th>\n",
       "    </tr>\n",
       "  </thead>\n",
       "  <tbody>\n",
       "    <tr>\n",
       "      <th>1</th>\n",
       "      <td>Q. What's O. J. Simpson's web address? A. Slas...</td>\n",
       "    </tr>\n",
       "    <tr>\n",
       "      <th>2</th>\n",
       "      <td>How many feminists does it take to screw in a ...</td>\n",
       "    </tr>\n",
       "    <tr>\n",
       "      <th>3</th>\n",
       "      <td>Q. Did you hear about the dyslexic devil worsh...</td>\n",
       "    </tr>\n",
       "    <tr>\n",
       "      <th>4</th>\n",
       "      <td>They asked the Japanese visitor if they have e...</td>\n",
       "    </tr>\n",
       "    <tr>\n",
       "      <th>5</th>\n",
       "      <td>Q: What did the blind person say when given so...</td>\n",
       "    </tr>\n",
       "  </tbody>\n",
       "</table>\n",
       "</div>"
      ],
      "text/plain": [
       "                                                 joke_text\n",
       "joke_id                                                   \n",
       "1        Q. What's O. J. Simpson's web address? A. Slas...\n",
       "2        How many feminists does it take to screw in a ...\n",
       "3        Q. Did you hear about the dyslexic devil worsh...\n",
       "4        They asked the Japanese visitor if they have e...\n",
       "5        Q: What did the blind person say when given so..."
      ]
     },
     "execution_count": 45,
     "metadata": {},
     "output_type": "execute_result"
    }
   ],
   "source": [
    "joke=pd.read_csv('jokes.csv')\n",
    "joke.set_index('joke_id',inplace=True)\n",
    "joke.head(5)"
   ]
  },
  {
   "cell_type": "code",
   "execution_count": 47,
   "metadata": {},
   "outputs": [
    {
     "data": {
      "text/html": [
       "<div>\n",
       "<style scoped>\n",
       "    .dataframe tbody tr th:only-of-type {\n",
       "        vertical-align: middle;\n",
       "    }\n",
       "\n",
       "    .dataframe tbody tr th {\n",
       "        vertical-align: top;\n",
       "    }\n",
       "\n",
       "    .dataframe thead th {\n",
       "        text-align: right;\n",
       "    }\n",
       "</style>\n",
       "<table border=\"1\" class=\"dataframe\">\n",
       "  <thead>\n",
       "    <tr style=\"text-align: right;\">\n",
       "      <th></th>\n",
       "      <th>id</th>\n",
       "      <th>user_id</th>\n",
       "      <th>Rating</th>\n",
       "    </tr>\n",
       "    <tr>\n",
       "      <th>joke_id</th>\n",
       "      <th></th>\n",
       "      <th></th>\n",
       "      <th></th>\n",
       "    </tr>\n",
       "  </thead>\n",
       "  <tbody>\n",
       "    <tr>\n",
       "      <th>110</th>\n",
       "      <td>31030_110</td>\n",
       "      <td>31030</td>\n",
       "      <td>2.75</td>\n",
       "    </tr>\n",
       "  </tbody>\n",
       "</table>\n",
       "</div>"
      ],
      "text/plain": [
       "                id  user_id  Rating\n",
       "joke_id                            \n",
       "110      31030_110    31030    2.75"
      ]
     },
     "execution_count": 47,
     "metadata": {},
     "output_type": "execute_result"
    }
   ],
   "source": [
    "t=pd.read_csv('train.csv')\n",
    "t.set_index('joke_id',inplace=True)\n",
    "t.head(1)"
   ]
  },
  {
   "cell_type": "code",
   "execution_count": 48,
   "metadata": {},
   "outputs": [],
   "source": [
    "t['joke']=joke['joke_text']\n",
    "t['len']=joke['joke_text'].apply(len)"
   ]
  },
  {
   "cell_type": "code",
   "execution_count": 49,
   "metadata": {},
   "outputs": [
    {
     "data": {
      "text/html": [
       "<div>\n",
       "<style scoped>\n",
       "    .dataframe tbody tr th:only-of-type {\n",
       "        vertical-align: middle;\n",
       "    }\n",
       "\n",
       "    .dataframe tbody tr th {\n",
       "        vertical-align: top;\n",
       "    }\n",
       "\n",
       "    .dataframe thead th {\n",
       "        text-align: right;\n",
       "    }\n",
       "</style>\n",
       "<table border=\"1\" class=\"dataframe\">\n",
       "  <thead>\n",
       "    <tr style=\"text-align: right;\">\n",
       "      <th></th>\n",
       "      <th>id</th>\n",
       "      <th>user_id</th>\n",
       "      <th>Rating</th>\n",
       "      <th>joke</th>\n",
       "      <th>len</th>\n",
       "    </tr>\n",
       "    <tr>\n",
       "      <th>joke_id</th>\n",
       "      <th></th>\n",
       "      <th></th>\n",
       "      <th></th>\n",
       "      <th></th>\n",
       "      <th></th>\n",
       "    </tr>\n",
       "  </thead>\n",
       "  <tbody>\n",
       "    <tr>\n",
       "      <th>110</th>\n",
       "      <td>31030_110</td>\n",
       "      <td>31030</td>\n",
       "      <td>2.750</td>\n",
       "      <td>Judy was having trouble with her computer, so ...</td>\n",
       "      <td>562</td>\n",
       "    </tr>\n",
       "    <tr>\n",
       "      <th>109</th>\n",
       "      <td>16144_109</td>\n",
       "      <td>16144</td>\n",
       "      <td>5.094</td>\n",
       "      <td>One day the first grade teacher was reading th...</td>\n",
       "      <td>541</td>\n",
       "    </tr>\n",
       "  </tbody>\n",
       "</table>\n",
       "</div>"
      ],
      "text/plain": [
       "                id  user_id  Rating  \\\n",
       "joke_id                               \n",
       "110      31030_110    31030   2.750   \n",
       "109      16144_109    16144   5.094   \n",
       "\n",
       "                                                      joke  len  \n",
       "joke_id                                                          \n",
       "110      Judy was having trouble with her computer, so ...  562  \n",
       "109      One day the first grade teacher was reading th...  541  "
      ]
     },
     "execution_count": 49,
     "metadata": {},
     "output_type": "execute_result"
    }
   ],
   "source": [
    "t.head(2)"
   ]
  },
  {
   "cell_type": "markdown",
   "metadata": {},
   "source": [
    "## Since jokes ratings are varying b/w positive and negative no., So we are going to consider jokes that have a rating above 0 as 1(positive) and rest as 0(negative)."
   ]
  },
  {
   "cell_type": "code",
   "execution_count": 50,
   "metadata": {},
   "outputs": [
    {
     "data": {
      "text/html": [
       "<div>\n",
       "<style scoped>\n",
       "    .dataframe tbody tr th:only-of-type {\n",
       "        vertical-align: middle;\n",
       "    }\n",
       "\n",
       "    .dataframe tbody tr th {\n",
       "        vertical-align: top;\n",
       "    }\n",
       "\n",
       "    .dataframe thead th {\n",
       "        text-align: right;\n",
       "    }\n",
       "</style>\n",
       "<table border=\"1\" class=\"dataframe\">\n",
       "  <thead>\n",
       "    <tr style=\"text-align: right;\">\n",
       "      <th></th>\n",
       "      <th>id</th>\n",
       "      <th>user_id</th>\n",
       "      <th>Rating</th>\n",
       "      <th>joke</th>\n",
       "      <th>len</th>\n",
       "    </tr>\n",
       "    <tr>\n",
       "      <th>joke_id</th>\n",
       "      <th></th>\n",
       "      <th></th>\n",
       "      <th></th>\n",
       "      <th></th>\n",
       "      <th></th>\n",
       "    </tr>\n",
       "  </thead>\n",
       "  <tbody>\n",
       "    <tr>\n",
       "      <th>110</th>\n",
       "      <td>31030_110</td>\n",
       "      <td>31030</td>\n",
       "      <td>1</td>\n",
       "      <td>Judy was having trouble with her computer, so ...</td>\n",
       "      <td>562</td>\n",
       "    </tr>\n",
       "    <tr>\n",
       "      <th>109</th>\n",
       "      <td>16144_109</td>\n",
       "      <td>16144</td>\n",
       "      <td>1</td>\n",
       "      <td>One day the first grade teacher was reading th...</td>\n",
       "      <td>541</td>\n",
       "    </tr>\n",
       "    <tr>\n",
       "      <th>6</th>\n",
       "      <td>23098_6</td>\n",
       "      <td>23098</td>\n",
       "      <td>0</td>\n",
       "      <td>Q. What is orange and sounds like a parrot? A....</td>\n",
       "      <td>56</td>\n",
       "    </tr>\n",
       "    <tr>\n",
       "      <th>86</th>\n",
       "      <td>14273_86</td>\n",
       "      <td>14273</td>\n",
       "      <td>1</td>\n",
       "      <td>Two attorneys went into a diner and ordered tw...</td>\n",
       "      <td>329</td>\n",
       "    </tr>\n",
       "    <tr>\n",
       "      <th>134</th>\n",
       "      <td>18419_134</td>\n",
       "      <td>18419</td>\n",
       "      <td>1</td>\n",
       "      <td>A man is driving in the country one evening wh...</td>\n",
       "      <td>759</td>\n",
       "    </tr>\n",
       "  </tbody>\n",
       "</table>\n",
       "</div>"
      ],
      "text/plain": [
       "                id  user_id  Rating  \\\n",
       "joke_id                               \n",
       "110      31030_110    31030       1   \n",
       "109      16144_109    16144       1   \n",
       "6          23098_6    23098       0   \n",
       "86        14273_86    14273       1   \n",
       "134      18419_134    18419       1   \n",
       "\n",
       "                                                      joke  len  \n",
       "joke_id                                                          \n",
       "110      Judy was having trouble with her computer, so ...  562  \n",
       "109      One day the first grade teacher was reading th...  541  \n",
       "6        Q. What is orange and sounds like a parrot? A....   56  \n",
       "86       Two attorneys went into a diner and ordered tw...  329  \n",
       "134      A man is driving in the country one evening wh...  759  "
      ]
     },
     "execution_count": 50,
     "metadata": {},
     "output_type": "execute_result"
    }
   ],
   "source": [
    "def rate(x):\n",
    "    if x>=0:\n",
    "        return 1\n",
    "    else:\n",
    "        return 0\n",
    "p=t.Rating.map(rate)\n",
    "t.Rating=p\n",
    "t.head()"
   ]
  },
  {
   "cell_type": "code",
   "execution_count": 51,
   "metadata": {},
   "outputs": [
    {
     "data": {
      "text/html": [
       "<div>\n",
       "<style scoped>\n",
       "    .dataframe tbody tr th:only-of-type {\n",
       "        vertical-align: middle;\n",
       "    }\n",
       "\n",
       "    .dataframe tbody tr th {\n",
       "        vertical-align: top;\n",
       "    }\n",
       "\n",
       "    .dataframe thead th {\n",
       "        text-align: right;\n",
       "    }\n",
       "</style>\n",
       "<table border=\"1\" class=\"dataframe\">\n",
       "  <thead>\n",
       "    <tr style=\"text-align: right;\">\n",
       "      <th></th>\n",
       "      <th>id</th>\n",
       "      <th>user_id</th>\n",
       "      <th>Rating</th>\n",
       "      <th>joke</th>\n",
       "      <th>len</th>\n",
       "    </tr>\n",
       "    <tr>\n",
       "      <th>joke_id</th>\n",
       "      <th></th>\n",
       "      <th></th>\n",
       "      <th></th>\n",
       "      <th></th>\n",
       "      <th></th>\n",
       "    </tr>\n",
       "  </thead>\n",
       "  <tbody>\n",
       "    <tr>\n",
       "      <th>1</th>\n",
       "      <td>74_1</td>\n",
       "      <td>74</td>\n",
       "      <td>0</td>\n",
       "      <td>Q. What's O. J. Simpson's web address? A. Slas...</td>\n",
       "      <td>88</td>\n",
       "    </tr>\n",
       "    <tr>\n",
       "      <th>1</th>\n",
       "      <td>490_1</td>\n",
       "      <td>490</td>\n",
       "      <td>1</td>\n",
       "      <td>Q. What's O. J. Simpson's web address? A. Slas...</td>\n",
       "      <td>88</td>\n",
       "    </tr>\n",
       "    <tr>\n",
       "      <th>1</th>\n",
       "      <td>315_1</td>\n",
       "      <td>315</td>\n",
       "      <td>0</td>\n",
       "      <td>Q. What's O. J. Simpson's web address? A. Slas...</td>\n",
       "      <td>88</td>\n",
       "    </tr>\n",
       "    <tr>\n",
       "      <th>1</th>\n",
       "      <td>337_1</td>\n",
       "      <td>337</td>\n",
       "      <td>1</td>\n",
       "      <td>Q. What's O. J. Simpson's web address? A. Slas...</td>\n",
       "      <td>88</td>\n",
       "    </tr>\n",
       "    <tr>\n",
       "      <th>1</th>\n",
       "      <td>457_1</td>\n",
       "      <td>457</td>\n",
       "      <td>1</td>\n",
       "      <td>Q. What's O. J. Simpson's web address? A. Slas...</td>\n",
       "      <td>88</td>\n",
       "    </tr>\n",
       "  </tbody>\n",
       "</table>\n",
       "</div>"
      ],
      "text/plain": [
       "            id  user_id  Rating  \\\n",
       "joke_id                           \n",
       "1         74_1       74       0   \n",
       "1        490_1      490       1   \n",
       "1        315_1      315       0   \n",
       "1        337_1      337       1   \n",
       "1        457_1      457       1   \n",
       "\n",
       "                                                      joke  len  \n",
       "joke_id                                                          \n",
       "1        Q. What's O. J. Simpson's web address? A. Slas...   88  \n",
       "1        Q. What's O. J. Simpson's web address? A. Slas...   88  \n",
       "1        Q. What's O. J. Simpson's web address? A. Slas...   88  \n",
       "1        Q. What's O. J. Simpson's web address? A. Slas...   88  \n",
       "1        Q. What's O. J. Simpson's web address? A. Slas...   88  "
      ]
     },
     "execution_count": 51,
     "metadata": {},
     "output_type": "execute_result"
    }
   ],
   "source": [
    "t=t.sort_index(kind='quicksort',axis=0)\n",
    "t.head()"
   ]
  },
  {
   "cell_type": "markdown",
   "metadata": {},
   "source": [
    "# Data Cleaning"
   ]
  },
  {
   "cell_type": "code",
   "execution_count": 8,
   "metadata": {},
   "outputs": [
    {
     "data": {
      "text/html": [
       "<div>\n",
       "<style scoped>\n",
       "    .dataframe tbody tr th:only-of-type {\n",
       "        vertical-align: middle;\n",
       "    }\n",
       "\n",
       "    .dataframe tbody tr th {\n",
       "        vertical-align: top;\n",
       "    }\n",
       "\n",
       "    .dataframe thead th {\n",
       "        text-align: right;\n",
       "    }\n",
       "</style>\n",
       "<table border=\"1\" class=\"dataframe\">\n",
       "  <thead>\n",
       "    <tr style=\"text-align: right;\">\n",
       "      <th></th>\n",
       "      <th>id</th>\n",
       "      <th>user_id</th>\n",
       "      <th>Rating</th>\n",
       "      <th>joke</th>\n",
       "      <th>len</th>\n",
       "    </tr>\n",
       "    <tr>\n",
       "      <th>joke_id</th>\n",
       "      <th></th>\n",
       "      <th></th>\n",
       "      <th></th>\n",
       "      <th></th>\n",
       "      <th></th>\n",
       "    </tr>\n",
       "  </thead>\n",
       "  <tbody>\n",
       "    <tr>\n",
       "      <th>1</th>\n",
       "      <td>74_1</td>\n",
       "      <td>74</td>\n",
       "      <td>0</td>\n",
       "      <td>Q. What's O. J. Simpson's web address? A. Slas...</td>\n",
       "      <td>88</td>\n",
       "    </tr>\n",
       "    <tr>\n",
       "      <th>2</th>\n",
       "      <td>31674_2</td>\n",
       "      <td>31674</td>\n",
       "      <td>1</td>\n",
       "      <td>How many feminists does it take to screw in a ...</td>\n",
       "      <td>75</td>\n",
       "    </tr>\n",
       "    <tr>\n",
       "      <th>3</th>\n",
       "      <td>37340_3</td>\n",
       "      <td>37340</td>\n",
       "      <td>1</td>\n",
       "      <td>Q. Did you hear about the dyslexic devil worsh...</td>\n",
       "      <td>81</td>\n",
       "    </tr>\n",
       "    <tr>\n",
       "      <th>4</th>\n",
       "      <td>39978_4</td>\n",
       "      <td>39978</td>\n",
       "      <td>1</td>\n",
       "      <td>They asked the Japanese visitor if they have e...</td>\n",
       "      <td>99</td>\n",
       "    </tr>\n",
       "    <tr>\n",
       "      <th>5</th>\n",
       "      <td>5568_5</td>\n",
       "      <td>5568</td>\n",
       "      <td>0</td>\n",
       "      <td>Q: What did the blind person say when given so...</td>\n",
       "      <td>84</td>\n",
       "    </tr>\n",
       "  </tbody>\n",
       "</table>\n",
       "</div>"
      ],
      "text/plain": [
       "              id  user_id  Rating  \\\n",
       "joke_id                             \n",
       "1           74_1       74       0   \n",
       "2        31674_2    31674       1   \n",
       "3        37340_3    37340       1   \n",
       "4        39978_4    39978       1   \n",
       "5         5568_5     5568       0   \n",
       "\n",
       "                                                      joke  len  \n",
       "joke_id                                                          \n",
       "1        Q. What's O. J. Simpson's web address? A. Slas...   88  \n",
       "2        How many feminists does it take to screw in a ...   75  \n",
       "3        Q. Did you hear about the dyslexic devil worsh...   81  \n",
       "4        They asked the Japanese visitor if they have e...   99  \n",
       "5        Q: What did the blind person say when given so...   84  "
      ]
     },
     "execution_count": 8,
     "metadata": {},
     "output_type": "execute_result"
    }
   ],
   "source": [
    "t=t.drop_duplicates(subset={'joke','len'},keep='first')\n",
    "t.head()"
   ]
  },
  {
   "cell_type": "code",
   "execution_count": 9,
   "metadata": {},
   "outputs": [],
   "source": [
    "import re\n",
    "from nltk.corpus import stopwords\n",
    "from nltk.stem.snowball import SnowballStemmer\n",
    "from nltk.stem.wordnet import WordNetLemmatizer\n",
    "stop = set(stopwords.words('english')) #set of stopwords\n",
    "sno = SnowballStemmer('english') #initialising the snowball stemmer\n",
    "\n",
    "def cleanpunc(sentence): #function to clean the word of any punctuation or special characters\n",
    "    cleaned = re.sub(r'[?|!|\\'|\"|#]',r'',sentence)\n",
    "    cleaned = re.sub(r'[.|,|:)|(|\\|/]',r' ',cleaned)\n",
    "    cleaned=cleaned.lower()\n",
    "    return  cleaned\n",
    "def clean(l):\n",
    "    #for sent in s:\n",
    "    filtered_sentence=[]\n",
    "    #print(s)\n",
    "    for cleaned_words in cleanpunc(l).split():\n",
    "            if(len(cleaned_words)>2):    \n",
    "                if(cleaned_words.lower() not in stop):\n",
    "                    s=(sno.stem(cleaned_words.lower())).encode('utf8')\n",
    "                    filtered_sentence.append(s)\n",
    "        \n",
    "    str1 = b\" \".join(filtered_sentence) \n",
    "    #print(str1)\n",
    "    return str1"
   ]
  },
  {
   "cell_type": "code",
   "execution_count": 12,
   "metadata": {},
   "outputs": [],
   "source": [
    "final_string=[]\n",
    "for i in t.joke:\n",
    "    final_string.append(clean(i))\n",
    "#final_string"
   ]
  },
  {
   "cell_type": "code",
   "execution_count": 13,
   "metadata": {},
   "outputs": [
    {
     "data": {
      "text/html": [
       "<div>\n",
       "<style scoped>\n",
       "    .dataframe tbody tr th:only-of-type {\n",
       "        vertical-align: middle;\n",
       "    }\n",
       "\n",
       "    .dataframe tbody tr th {\n",
       "        vertical-align: top;\n",
       "    }\n",
       "\n",
       "    .dataframe thead th {\n",
       "        text-align: right;\n",
       "    }\n",
       "</style>\n",
       "<table border=\"1\" class=\"dataframe\">\n",
       "  <thead>\n",
       "    <tr style=\"text-align: right;\">\n",
       "      <th></th>\n",
       "      <th>id</th>\n",
       "      <th>user_id</th>\n",
       "      <th>Rating</th>\n",
       "      <th>len</th>\n",
       "      <th>cjoke</th>\n",
       "    </tr>\n",
       "    <tr>\n",
       "      <th>joke_id</th>\n",
       "      <th></th>\n",
       "      <th></th>\n",
       "      <th></th>\n",
       "      <th></th>\n",
       "      <th></th>\n",
       "    </tr>\n",
       "  </thead>\n",
       "  <tbody>\n",
       "    <tr>\n",
       "      <th>1</th>\n",
       "      <td>74_1</td>\n",
       "      <td>74</td>\n",
       "      <td>0</td>\n",
       "      <td>64</td>\n",
       "      <td>b'what simpson web address slash slash backsla...</td>\n",
       "    </tr>\n",
       "    <tr>\n",
       "      <th>2</th>\n",
       "      <td>31674_2</td>\n",
       "      <td>31674</td>\n",
       "      <td>1</td>\n",
       "      <td>46</td>\n",
       "      <td>b'mani feminist take screw light bulb that funni'</td>\n",
       "    </tr>\n",
       "    <tr>\n",
       "      <th>3</th>\n",
       "      <td>37340_3</td>\n",
       "      <td>37340</td>\n",
       "      <td>1</td>\n",
       "      <td>41</td>\n",
       "      <td>b'hear dyslex devil worship sold soul santa'</td>\n",
       "    </tr>\n",
       "    <tr>\n",
       "      <th>4</th>\n",
       "      <td>39978_4</td>\n",
       "      <td>39978</td>\n",
       "      <td>1</td>\n",
       "      <td>51</td>\n",
       "      <td>b'ask japanes visitor elect countri everi morn...</td>\n",
       "    </tr>\n",
       "    <tr>\n",
       "      <th>5</th>\n",
       "      <td>5568_5</td>\n",
       "      <td>5568</td>\n",
       "      <td>0</td>\n",
       "      <td>40</td>\n",
       "      <td>b'blind person say given matzah hell wrote'</td>\n",
       "    </tr>\n",
       "  </tbody>\n",
       "</table>\n",
       "</div>"
      ],
      "text/plain": [
       "              id  user_id  Rating  len  \\\n",
       "joke_id                                  \n",
       "1           74_1       74       0   64   \n",
       "2        31674_2    31674       1   46   \n",
       "3        37340_3    37340       1   41   \n",
       "4        39978_4    39978       1   51   \n",
       "5         5568_5     5568       0   40   \n",
       "\n",
       "                                                     cjoke  \n",
       "joke_id                                                     \n",
       "1        b'what simpson web address slash slash backsla...  \n",
       "2        b'mani feminist take screw light bulb that funni'  \n",
       "3             b'hear dyslex devil worship sold soul santa'  \n",
       "4        b'ask japanes visitor elect countri everi morn...  \n",
       "5              b'blind person say given matzah hell wrote'  "
      ]
     },
     "execution_count": 13,
     "metadata": {},
     "output_type": "execute_result"
    }
   ],
   "source": [
    "t['cjoke']=final_string\n",
    "t=t.drop('joke',axis=1)\n",
    "t['len']=t['cjoke'].apply(len)\n",
    "t.head()"
   ]
  },
  {
   "cell_type": "code",
   "execution_count": 55,
   "metadata": {},
   "outputs": [],
   "source": [
    "t.to_csv('finaljoke')"
   ]
  },
  {
   "cell_type": "markdown",
   "metadata": {},
   "source": [
    "\n",
    "# This is our final data after cleaning and rearrangement"
   ]
  },
  {
   "cell_type": "code",
   "execution_count": 14,
   "metadata": {},
   "outputs": [
    {
     "data": {
      "text/html": [
       "<div>\n",
       "<style scoped>\n",
       "    .dataframe tbody tr th:only-of-type {\n",
       "        vertical-align: middle;\n",
       "    }\n",
       "\n",
       "    .dataframe tbody tr th {\n",
       "        vertical-align: top;\n",
       "    }\n",
       "\n",
       "    .dataframe thead th {\n",
       "        text-align: right;\n",
       "    }\n",
       "</style>\n",
       "<table border=\"1\" class=\"dataframe\">\n",
       "  <thead>\n",
       "    <tr style=\"text-align: right;\">\n",
       "      <th></th>\n",
       "      <th>id</th>\n",
       "      <th>user_id</th>\n",
       "      <th>Rating</th>\n",
       "      <th>len</th>\n",
       "      <th>cjoke</th>\n",
       "    </tr>\n",
       "    <tr>\n",
       "      <th>joke_id</th>\n",
       "      <th></th>\n",
       "      <th></th>\n",
       "      <th></th>\n",
       "      <th></th>\n",
       "      <th></th>\n",
       "    </tr>\n",
       "  </thead>\n",
       "  <tbody>\n",
       "    <tr>\n",
       "      <th>1</th>\n",
       "      <td>74_1</td>\n",
       "      <td>74</td>\n",
       "      <td>0</td>\n",
       "      <td>64</td>\n",
       "      <td>b'what simpson web address slash slash backsla...</td>\n",
       "    </tr>\n",
       "    <tr>\n",
       "      <th>2</th>\n",
       "      <td>31674_2</td>\n",
       "      <td>31674</td>\n",
       "      <td>1</td>\n",
       "      <td>46</td>\n",
       "      <td>b'mani feminist take screw light bulb that funni'</td>\n",
       "    </tr>\n",
       "    <tr>\n",
       "      <th>3</th>\n",
       "      <td>37340_3</td>\n",
       "      <td>37340</td>\n",
       "      <td>1</td>\n",
       "      <td>41</td>\n",
       "      <td>b'hear dyslex devil worship sold soul santa'</td>\n",
       "    </tr>\n",
       "    <tr>\n",
       "      <th>4</th>\n",
       "      <td>39978_4</td>\n",
       "      <td>39978</td>\n",
       "      <td>1</td>\n",
       "      <td>51</td>\n",
       "      <td>b'ask japanes visitor elect countri everi morn...</td>\n",
       "    </tr>\n",
       "    <tr>\n",
       "      <th>5</th>\n",
       "      <td>5568_5</td>\n",
       "      <td>5568</td>\n",
       "      <td>0</td>\n",
       "      <td>40</td>\n",
       "      <td>b'blind person say given matzah hell wrote'</td>\n",
       "    </tr>\n",
       "  </tbody>\n",
       "</table>\n",
       "</div>"
      ],
      "text/plain": [
       "              id  user_id  Rating  len  \\\n",
       "joke_id                                  \n",
       "1           74_1       74       0   64   \n",
       "2        31674_2    31674       1   46   \n",
       "3        37340_3    37340       1   41   \n",
       "4        39978_4    39978       1   51   \n",
       "5         5568_5     5568       0   40   \n",
       "\n",
       "                                                     cjoke  \n",
       "joke_id                                                     \n",
       "1        b'what simpson web address slash slash backsla...  \n",
       "2        b'mani feminist take screw light bulb that funni'  \n",
       "3             b'hear dyslex devil worship sold soul santa'  \n",
       "4        b'ask japanes visitor elect countri everi morn...  \n",
       "5              b'blind person say given matzah hell wrote'  "
      ]
     },
     "execution_count": 14,
     "metadata": {},
     "output_type": "execute_result"
    }
   ],
   "source": [
    "f=pd.read_csv('finaljoke',index_col='joke_id')\n",
    "f.head()"
   ]
  },
  {
   "cell_type": "markdown",
   "metadata": {},
   "source": [
    "# Splitting the data into train and test set"
   ]
  },
  {
   "cell_type": "code",
   "execution_count": 37,
   "metadata": {},
   "outputs": [],
   "source": [
    "from sklearn.model_selection import train_test_split\n",
    "X=f.cjoke\n",
    "y=f.Rating\n",
    "X_train, X_test, y_train, y_test = train_test_split(X, y,test_size=0.3,random_state=101)"
   ]
  },
  {
   "cell_type": "markdown",
   "metadata": {},
   "source": [
    "# We are going to use bag of words technique on cjoke text "
   ]
  },
  {
   "cell_type": "code",
   "execution_count": 38,
   "metadata": {},
   "outputs": [
    {
     "name": "stdout",
     "output_type": "stream",
     "text": [
      "<class 'numpy.ndarray'>\n"
     ]
    }
   ],
   "source": [
    "from sklearn.feature_extraction.text import CountVectorizer\n",
    "cv = CountVectorizer()\n",
    "X_train=cv.fit_transform(X_train).toarray()\n",
    "print(type(X_train))"
   ]
  },
  {
   "cell_type": "markdown",
   "metadata": {},
   "source": [
    "# We are using Naive Bayes classifier"
   ]
  },
  {
   "cell_type": "code",
   "execution_count": 39,
   "metadata": {},
   "outputs": [
    {
     "name": "stdout",
     "output_type": "stream",
     "text": [
      "0.5714285714285714\n",
      "[[ 2 12]\n",
      " [ 6 22]]\n",
      "             precision    recall  f1-score   support\n",
      "\n",
      "          0       0.25      0.14      0.18        14\n",
      "          1       0.65      0.79      0.71        28\n",
      "\n",
      "avg / total       0.51      0.57      0.53        42\n",
      "\n"
     ]
    }
   ],
   "source": [
    "from sklearn.naive_bayes import MultinomialNB\n",
    "nb = MultinomialNB()\n",
    "nb.fit(X_train,y_train)\n",
    "X_test=cv.transform(X_test).toarray()\n",
    "predictions = nb.predict(X_test)\n",
    "\n",
    "from sklearn.metrics import confusion_matrix,classification_report,accuracy_score\n",
    "print(accuracy_score(y_test,predictions))\n",
    "print(confusion_matrix(y_test,predictions))\n",
    "print(classification_report(y_test,predictions))"
   ]
  },
  {
   "cell_type": "markdown",
   "metadata": {},
   "source": [
    "### since accuracy is low around 57% so we are going to use bagging technique i.e using multiple classifier to classify and then take the majority vote to classify if the joke is funny or not."
   ]
  },
  {
   "cell_type": "markdown",
   "metadata": {},
   "source": [
    "### we are going to use naive bayes,svm and linear regression"
   ]
  },
  {
   "cell_type": "code",
   "execution_count": 41,
   "metadata": {},
   "outputs": [
    {
     "name": "stdout",
     "output_type": "stream",
     "text": [
      "NB, Count Vectors:  0.5714285714285714\n",
      "[[ 2  6]\n",
      " [12 22]]\n",
      "LR, Count Vectors:  0.6666666666666666\n",
      "[[ 8  8]\n",
      " [ 6 20]]\n",
      "SVM, N-Gram Vectors:  0.6666666666666666\n",
      "[[ 0  0]\n",
      " [14 28]]\n"
     ]
    }
   ],
   "source": [
    "from sklearn import decomposition, ensemble\n",
    "from sklearn import metrics,linear_model,svm\n",
    "X=f.cjoke\n",
    "y=f.Rating\n",
    "X_train, X_test, y_train, y_test = train_test_split(X, y,test_size=0.3,random_state=101)\n",
    "X_train=cv.fit_transform(X_train).toarray()\n",
    "X_test=cv.transform(X_test).toarray()\n",
    "# Naive Bayes\n",
    "nb = MultinomialNB()\n",
    "nb.fit(X_train,y_train)\n",
    "predictions = nb.predict(X_test)\n",
    "accuracy=metrics.accuracy_score(predictions, y_test)\n",
    "print(\"NB, Count Vectors: \", accuracy)\n",
    "print(confusion_matrix(predictions, y_test))\n",
    "# Linear Classifier \n",
    "lr=linear_model.LogisticRegression()\n",
    "lr.fit(X_train,y_train)\n",
    "predictions = lr.predict(X_test)\n",
    "accuracy=metrics.accuracy_score(predictions, y_test)\n",
    "print (\"LR, Count Vectors: \", accuracy)\n",
    "print(confusion_matrix(predictions, y_test))\n",
    "# SVM \n",
    "SV=svm.SVC()\n",
    "SV.fit(X_train,y_train)\n",
    "predictions = SV.predict(X_test)\n",
    "accuracy=metrics.accuracy_score(predictions, y_test)\n",
    "print (\"SVM, N-Gram Vectors: \", accuracy)\n",
    "print(confusion_matrix(predictions, y_test))"
   ]
  },
  {
   "cell_type": "markdown",
   "metadata": {},
   "source": [
    "## input the joke you want to classify in j"
   ]
  },
  {
   "cell_type": "code",
   "execution_count": 52,
   "metadata": {},
   "outputs": [
    {
     "name": "stdout",
     "output_type": "stream",
     "text": [
      "funny\n"
     ]
    }
   ],
   "source": [
    "j=\"How many feminists does it take to screw in a light bulb? That's not funny.\"\n",
    "j=clean(j)\n",
    "l=[]\n",
    "l.append(j)\n",
    "s=cv.transform(l).toarray()\n",
    "a=int(SV.predict(s))\n",
    "b=int(lr.predict(s))\n",
    "c=int(nb.predict(s))\n",
    "if(a+b+c>=2):\n",
    "    print(\"funny\")\n",
    "else:\n",
    "    print(\"not funny\")"
   ]
  }
 ],
 "metadata": {
  "kernelspec": {
   "display_name": "Python 3",
   "language": "python",
   "name": "python3"
  },
  "language_info": {
   "codemirror_mode": {
    "name": "ipython",
    "version": 3
   },
   "file_extension": ".py",
   "mimetype": "text/x-python",
   "name": "python",
   "nbconvert_exporter": "python",
   "pygments_lexer": "ipython3",
   "version": "3.6.4"
  }
 },
 "nbformat": 4,
 "nbformat_minor": 2
}
