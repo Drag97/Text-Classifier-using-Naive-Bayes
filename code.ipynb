{
 "cells": [
  {
   "cell_type": "code",
   "execution_count": 2,
   "metadata": {},
   "outputs": [],
   "source": [
    "import pandas as pd\n",
    "import numpy as np\n",
    "import matplotlib.pyplot as plt\n",
    "import seaborn as sns\n",
    "%matplotlib inline"
   ]
  },
  {
   "cell_type": "code",
   "execution_count": 2,
   "metadata": {},
   "outputs": [
    {
     "data": {
      "text/html": [
       "<div>\n",
       "<style scoped>\n",
       "    .dataframe tbody tr th:only-of-type {\n",
       "        vertical-align: middle;\n",
       "    }\n",
       "\n",
       "    .dataframe tbody tr th {\n",
       "        vertical-align: top;\n",
       "    }\n",
       "\n",
       "    .dataframe thead th {\n",
       "        text-align: right;\n",
       "    }\n",
       "</style>\n",
       "<table border=\"1\" class=\"dataframe\">\n",
       "  <thead>\n",
       "    <tr style=\"text-align: right;\">\n",
       "      <th></th>\n",
       "      <th>joke_text</th>\n",
       "    </tr>\n",
       "    <tr>\n",
       "      <th>joke_id</th>\n",
       "      <th></th>\n",
       "    </tr>\n",
       "  </thead>\n",
       "  <tbody>\n",
       "    <tr>\n",
       "      <th>1</th>\n",
       "      <td>Q. What's O. J. Simpson's web address? A. Slas...</td>\n",
       "    </tr>\n",
       "    <tr>\n",
       "      <th>2</th>\n",
       "      <td>How many feminists does it take to screw in a ...</td>\n",
       "    </tr>\n",
       "    <tr>\n",
       "      <th>3</th>\n",
       "      <td>Q. Did you hear about the dyslexic devil worsh...</td>\n",
       "    </tr>\n",
       "    <tr>\n",
       "      <th>4</th>\n",
       "      <td>They asked the Japanese visitor if they have e...</td>\n",
       "    </tr>\n",
       "    <tr>\n",
       "      <th>5</th>\n",
       "      <td>Q: What did the blind person say when given so...</td>\n",
       "    </tr>\n",
       "  </tbody>\n",
       "</table>\n",
       "</div>"
      ],
      "text/plain": [
       "                                                 joke_text\n",
       "joke_id                                                   \n",
       "1        Q. What's O. J. Simpson's web address? A. Slas...\n",
       "2        How many feminists does it take to screw in a ...\n",
       "3        Q. Did you hear about the dyslexic devil worsh...\n",
       "4        They asked the Japanese visitor if they have e...\n",
       "5        Q: What did the blind person say when given so..."
      ]
     },
     "execution_count": 2,
     "metadata": {},
     "output_type": "execute_result"
    }
   ],
   "source": [
    "joke=pd.read_csv('jokes.csv')\n",
    "joke.set_index('joke_id',inplace=True)\n",
    "joke.head(5)"
   ]
  },
  {
   "cell_type": "code",
   "execution_count": 4,
   "metadata": {},
   "outputs": [
    {
     "data": {
      "text/html": [
       "<div>\n",
       "<style scoped>\n",
       "    .dataframe tbody tr th:only-of-type {\n",
       "        vertical-align: middle;\n",
       "    }\n",
       "\n",
       "    .dataframe tbody tr th {\n",
       "        vertical-align: top;\n",
       "    }\n",
       "\n",
       "    .dataframe thead th {\n",
       "        text-align: right;\n",
       "    }\n",
       "</style>\n",
       "<table border=\"1\" class=\"dataframe\">\n",
       "  <thead>\n",
       "    <tr style=\"text-align: right;\">\n",
       "      <th></th>\n",
       "      <th>id</th>\n",
       "      <th>user_id</th>\n",
       "      <th>Rating</th>\n",
       "    </tr>\n",
       "    <tr>\n",
       "      <th>joke_id</th>\n",
       "      <th></th>\n",
       "      <th></th>\n",
       "      <th></th>\n",
       "    </tr>\n",
       "  </thead>\n",
       "  <tbody>\n",
       "    <tr>\n",
       "      <th>110</th>\n",
       "      <td>31030_110</td>\n",
       "      <td>31030</td>\n",
       "      <td>2.75</td>\n",
       "    </tr>\n",
       "  </tbody>\n",
       "</table>\n",
       "</div>"
      ],
      "text/plain": [
       "                id  user_id  Rating\n",
       "joke_id                            \n",
       "110      31030_110    31030    2.75"
      ]
     },
     "execution_count": 4,
     "metadata": {},
     "output_type": "execute_result"
    }
   ],
   "source": [
    "t=pd.read_csv('train.csv')\n",
    "t.set_index('joke_id',inplace=True)\n",
    "t.head(1)"
   ]
  },
  {
   "cell_type": "code",
   "execution_count": 5,
   "metadata": {},
   "outputs": [],
   "source": [
    "t['joke']=joke['joke_text']\n",
    "t['len']=joke['joke_text'].apply(len)"
   ]
  },
  {
   "cell_type": "code",
   "execution_count": 6,
   "metadata": {},
   "outputs": [
    {
     "data": {
      "text/html": [
       "<div>\n",
       "<style scoped>\n",
       "    .dataframe tbody tr th:only-of-type {\n",
       "        vertical-align: middle;\n",
       "    }\n",
       "\n",
       "    .dataframe tbody tr th {\n",
       "        vertical-align: top;\n",
       "    }\n",
       "\n",
       "    .dataframe thead th {\n",
       "        text-align: right;\n",
       "    }\n",
       "</style>\n",
       "<table border=\"1\" class=\"dataframe\">\n",
       "  <thead>\n",
       "    <tr style=\"text-align: right;\">\n",
       "      <th></th>\n",
       "      <th>id</th>\n",
       "      <th>user_id</th>\n",
       "      <th>Rating</th>\n",
       "      <th>joke</th>\n",
       "      <th>len</th>\n",
       "    </tr>\n",
       "    <tr>\n",
       "      <th>joke_id</th>\n",
       "      <th></th>\n",
       "      <th></th>\n",
       "      <th></th>\n",
       "      <th></th>\n",
       "      <th></th>\n",
       "    </tr>\n",
       "  </thead>\n",
       "  <tbody>\n",
       "    <tr>\n",
       "      <th>110</th>\n",
       "      <td>31030_110</td>\n",
       "      <td>31030</td>\n",
       "      <td>2.750</td>\n",
       "      <td>Judy was having trouble with her computer, so ...</td>\n",
       "      <td>562</td>\n",
       "    </tr>\n",
       "    <tr>\n",
       "      <th>109</th>\n",
       "      <td>16144_109</td>\n",
       "      <td>16144</td>\n",
       "      <td>5.094</td>\n",
       "      <td>One day the first grade teacher was reading th...</td>\n",
       "      <td>541</td>\n",
       "    </tr>\n",
       "    <tr>\n",
       "      <th>6</th>\n",
       "      <td>23098_6</td>\n",
       "      <td>23098</td>\n",
       "      <td>-6.438</td>\n",
       "      <td>Q. What is orange and sounds like a parrot? A....</td>\n",
       "      <td>56</td>\n",
       "    </tr>\n",
       "    <tr>\n",
       "      <th>86</th>\n",
       "      <td>14273_86</td>\n",
       "      <td>14273</td>\n",
       "      <td>4.406</td>\n",
       "      <td>Two attorneys went into a diner and ordered tw...</td>\n",
       "      <td>329</td>\n",
       "    </tr>\n",
       "    <tr>\n",
       "      <th>134</th>\n",
       "      <td>18419_134</td>\n",
       "      <td>18419</td>\n",
       "      <td>9.375</td>\n",
       "      <td>A man is driving in the country one evening wh...</td>\n",
       "      <td>759</td>\n",
       "    </tr>\n",
       "  </tbody>\n",
       "</table>\n",
       "</div>"
      ],
      "text/plain": [
       "                id  user_id  Rating  \\\n",
       "joke_id                               \n",
       "110      31030_110    31030   2.750   \n",
       "109      16144_109    16144   5.094   \n",
       "6          23098_6    23098  -6.438   \n",
       "86        14273_86    14273   4.406   \n",
       "134      18419_134    18419   9.375   \n",
       "\n",
       "                                                      joke  len  \n",
       "joke_id                                                          \n",
       "110      Judy was having trouble with her computer, so ...  562  \n",
       "109      One day the first grade teacher was reading th...  541  \n",
       "6        Q. What is orange and sounds like a parrot? A....   56  \n",
       "86       Two attorneys went into a diner and ordered tw...  329  \n",
       "134      A man is driving in the country one evening wh...  759  "
      ]
     },
     "execution_count": 6,
     "metadata": {},
     "output_type": "execute_result"
    }
   ],
   "source": [
    "t.head()"
   ]
  },
  {
   "cell_type": "code",
   "execution_count": 7,
   "metadata": {},
   "outputs": [
    {
     "data": {
      "text/html": [
       "<div>\n",
       "<style scoped>\n",
       "    .dataframe tbody tr th:only-of-type {\n",
       "        vertical-align: middle;\n",
       "    }\n",
       "\n",
       "    .dataframe tbody tr th {\n",
       "        vertical-align: top;\n",
       "    }\n",
       "\n",
       "    .dataframe thead th {\n",
       "        text-align: right;\n",
       "    }\n",
       "</style>\n",
       "<table border=\"1\" class=\"dataframe\">\n",
       "  <thead>\n",
       "    <tr style=\"text-align: right;\">\n",
       "      <th></th>\n",
       "      <th>id</th>\n",
       "      <th>user_id</th>\n",
       "      <th>Rating</th>\n",
       "      <th>joke</th>\n",
       "      <th>len</th>\n",
       "    </tr>\n",
       "    <tr>\n",
       "      <th>joke_id</th>\n",
       "      <th></th>\n",
       "      <th></th>\n",
       "      <th></th>\n",
       "      <th></th>\n",
       "      <th></th>\n",
       "    </tr>\n",
       "  </thead>\n",
       "  <tbody>\n",
       "    <tr>\n",
       "      <th>110</th>\n",
       "      <td>31030_110</td>\n",
       "      <td>31030</td>\n",
       "      <td>1</td>\n",
       "      <td>Judy was having trouble with her computer, so ...</td>\n",
       "      <td>562</td>\n",
       "    </tr>\n",
       "    <tr>\n",
       "      <th>109</th>\n",
       "      <td>16144_109</td>\n",
       "      <td>16144</td>\n",
       "      <td>1</td>\n",
       "      <td>One day the first grade teacher was reading th...</td>\n",
       "      <td>541</td>\n",
       "    </tr>\n",
       "    <tr>\n",
       "      <th>6</th>\n",
       "      <td>23098_6</td>\n",
       "      <td>23098</td>\n",
       "      <td>0</td>\n",
       "      <td>Q. What is orange and sounds like a parrot? A....</td>\n",
       "      <td>56</td>\n",
       "    </tr>\n",
       "    <tr>\n",
       "      <th>86</th>\n",
       "      <td>14273_86</td>\n",
       "      <td>14273</td>\n",
       "      <td>1</td>\n",
       "      <td>Two attorneys went into a diner and ordered tw...</td>\n",
       "      <td>329</td>\n",
       "    </tr>\n",
       "    <tr>\n",
       "      <th>134</th>\n",
       "      <td>18419_134</td>\n",
       "      <td>18419</td>\n",
       "      <td>1</td>\n",
       "      <td>A man is driving in the country one evening wh...</td>\n",
       "      <td>759</td>\n",
       "    </tr>\n",
       "  </tbody>\n",
       "</table>\n",
       "</div>"
      ],
      "text/plain": [
       "                id  user_id  Rating  \\\n",
       "joke_id                               \n",
       "110      31030_110    31030       1   \n",
       "109      16144_109    16144       1   \n",
       "6          23098_6    23098       0   \n",
       "86        14273_86    14273       1   \n",
       "134      18419_134    18419       1   \n",
       "\n",
       "                                                      joke  len  \n",
       "joke_id                                                          \n",
       "110      Judy was having trouble with her computer, so ...  562  \n",
       "109      One day the first grade teacher was reading th...  541  \n",
       "6        Q. What is orange and sounds like a parrot? A....   56  \n",
       "86       Two attorneys went into a diner and ordered tw...  329  \n",
       "134      A man is driving in the country one evening wh...  759  "
      ]
     },
     "execution_count": 7,
     "metadata": {},
     "output_type": "execute_result"
    }
   ],
   "source": [
    "def rate(x):\n",
    "    if x>=0:\n",
    "        return 1\n",
    "    else:\n",
    "        return 0\n",
    "p=t.Rating.map(rate)\n",
    "t.Rating=p\n",
    "t.head()"
   ]
  },
  {
   "cell_type": "code",
   "execution_count": 13,
   "metadata": {},
   "outputs": [
    {
     "data": {
      "text/html": [
       "<div>\n",
       "<style scoped>\n",
       "    .dataframe tbody tr th:only-of-type {\n",
       "        vertical-align: middle;\n",
       "    }\n",
       "\n",
       "    .dataframe tbody tr th {\n",
       "        vertical-align: top;\n",
       "    }\n",
       "\n",
       "    .dataframe thead th {\n",
       "        text-align: right;\n",
       "    }\n",
       "</style>\n",
       "<table border=\"1\" class=\"dataframe\">\n",
       "  <thead>\n",
       "    <tr style=\"text-align: right;\">\n",
       "      <th></th>\n",
       "      <th>Rating</th>\n",
       "      <th>joke</th>\n",
       "      <th>len</th>\n",
       "    </tr>\n",
       "    <tr>\n",
       "      <th>joke_id</th>\n",
       "      <th></th>\n",
       "      <th></th>\n",
       "      <th></th>\n",
       "    </tr>\n",
       "  </thead>\n",
       "  <tbody>\n",
       "    <tr>\n",
       "      <th>1</th>\n",
       "      <td>1</td>\n",
       "      <td>Q. What's O. J. Simpson's web address? A. Slas...</td>\n",
       "      <td>88</td>\n",
       "    </tr>\n",
       "    <tr>\n",
       "      <th>2</th>\n",
       "      <td>1</td>\n",
       "      <td>How many feminists does it take to screw in a ...</td>\n",
       "      <td>75</td>\n",
       "    </tr>\n",
       "    <tr>\n",
       "      <th>3</th>\n",
       "      <td>1</td>\n",
       "      <td>Q. Did you hear about the dyslexic devil worsh...</td>\n",
       "      <td>81</td>\n",
       "    </tr>\n",
       "    <tr>\n",
       "      <th>4</th>\n",
       "      <td>0</td>\n",
       "      <td>They asked the Japanese visitor if they have e...</td>\n",
       "      <td>99</td>\n",
       "    </tr>\n",
       "    <tr>\n",
       "      <th>5</th>\n",
       "      <td>1</td>\n",
       "      <td>Q: What did the blind person say when given so...</td>\n",
       "      <td>84</td>\n",
       "    </tr>\n",
       "  </tbody>\n",
       "</table>\n",
       "</div>"
      ],
      "text/plain": [
       "         Rating                                               joke  len\n",
       "joke_id                                                                \n",
       "1             1  Q. What's O. J. Simpson's web address? A. Slas...   88\n",
       "2             1  How many feminists does it take to screw in a ...   75\n",
       "3             1  Q. Did you hear about the dyslexic devil worsh...   81\n",
       "4             0  They asked the Japanese visitor if they have e...   99\n",
       "5             1  Q: What did the blind person say when given so...   84"
      ]
     },
     "execution_count": 13,
     "metadata": {},
     "output_type": "execute_result"
    }
   ],
   "source": [
    "t=t.sort_index(kind='quicksort',axis=0)\n",
    "t.head()"
   ]
  },
  {
   "cell_type": "code",
   "execution_count": 14,
   "metadata": {},
   "outputs": [
    {
     "data": {
      "text/html": [
       "<div>\n",
       "<style scoped>\n",
       "    .dataframe tbody tr th:only-of-type {\n",
       "        vertical-align: middle;\n",
       "    }\n",
       "\n",
       "    .dataframe tbody tr th {\n",
       "        vertical-align: top;\n",
       "    }\n",
       "\n",
       "    .dataframe thead th {\n",
       "        text-align: right;\n",
       "    }\n",
       "</style>\n",
       "<table border=\"1\" class=\"dataframe\">\n",
       "  <thead>\n",
       "    <tr style=\"text-align: right;\">\n",
       "      <th></th>\n",
       "      <th>Rating</th>\n",
       "      <th>joke</th>\n",
       "      <th>len</th>\n",
       "    </tr>\n",
       "    <tr>\n",
       "      <th>joke_id</th>\n",
       "      <th></th>\n",
       "      <th></th>\n",
       "      <th></th>\n",
       "    </tr>\n",
       "  </thead>\n",
       "  <tbody>\n",
       "    <tr>\n",
       "      <th>1</th>\n",
       "      <td>1</td>\n",
       "      <td>Q. What's O. J. Simpson's web address? A. Slas...</td>\n",
       "      <td>88</td>\n",
       "    </tr>\n",
       "    <tr>\n",
       "      <th>2</th>\n",
       "      <td>1</td>\n",
       "      <td>How many feminists does it take to screw in a ...</td>\n",
       "      <td>75</td>\n",
       "    </tr>\n",
       "    <tr>\n",
       "      <th>3</th>\n",
       "      <td>1</td>\n",
       "      <td>Q. Did you hear about the dyslexic devil worsh...</td>\n",
       "      <td>81</td>\n",
       "    </tr>\n",
       "    <tr>\n",
       "      <th>4</th>\n",
       "      <td>0</td>\n",
       "      <td>They asked the Japanese visitor if they have e...</td>\n",
       "      <td>99</td>\n",
       "    </tr>\n",
       "    <tr>\n",
       "      <th>5</th>\n",
       "      <td>1</td>\n",
       "      <td>Q: What did the blind person say when given so...</td>\n",
       "      <td>84</td>\n",
       "    </tr>\n",
       "  </tbody>\n",
       "</table>\n",
       "</div>"
      ],
      "text/plain": [
       "         Rating                                               joke  len\n",
       "joke_id                                                                \n",
       "1             1  Q. What's O. J. Simpson's web address? A. Slas...   88\n",
       "2             1  How many feminists does it take to screw in a ...   75\n",
       "3             1  Q. Did you hear about the dyslexic devil worsh...   81\n",
       "4             0  They asked the Japanese visitor if they have e...   99\n",
       "5             1  Q: What did the blind person say when given so...   84"
      ]
     },
     "execution_count": 14,
     "metadata": {},
     "output_type": "execute_result"
    }
   ],
   "source": [
    "t=t.drop_duplicates(subset={'joke','len'},keep='first')\n",
    "t.head()"
   ]
  },
  {
   "cell_type": "markdown",
   "metadata": {},
   "source": [
    "# Data Cleaning"
   ]
  },
  {
   "cell_type": "code",
   "execution_count": 32,
   "metadata": {},
   "outputs": [],
   "source": [
    "import re\n",
    "from nltk.corpus import stopwords\n",
    "from nltk.stem.snowball import SnowballStemmer\n",
    "from nltk.stem.wordnet import WordNetLemmatizer\n",
    "stop = set(stopwords.words('english')) #set of stopwords\n",
    "sno = SnowballStemmer('english') #initialising the snowball stemmer\n",
    "\n",
    "def cleanpunc(sentence): #function to clean the word of any punctuation or special characters\n",
    "    cleaned = re.sub(r'[?|!|\\'|\"|#]',r'',sentence)\n",
    "    cleaned = re.sub(r'[.|,|:)|(|\\|/]',r' ',cleaned)\n",
    "    cleaned=cleaned.lower()\n",
    "    return  cleaned\n"
   ]
  },
  {
   "cell_type": "code",
   "execution_count": 78,
   "metadata": {},
   "outputs": [
    {
     "name": "stdout",
     "output_type": "stream",
     "text": [
      "[b'what']\n",
      "[b'what', b'simpson']\n",
      "[b'what', b'simpson', b'web']\n",
      "[b'what', b'simpson', b'web', b'address']\n",
      "[b'what', b'simpson', b'web', b'address', b'slash']\n",
      "[b'what', b'simpson', b'web', b'address', b'slash', b'slash']\n",
      "[b'what', b'simpson', b'web', b'address', b'slash', b'slash', b'backslash']\n",
      "[b'what', b'simpson', b'web', b'address', b'slash', b'slash', b'backslash', b'slash']\n",
      "[b'what', b'simpson', b'web', b'address', b'slash', b'slash', b'backslash', b'slash', b'slash']\n",
      "[b'what', b'simpson', b'web', b'address', b'slash', b'slash', b'backslash', b'slash', b'slash', b'escap']\n",
      "[b'mani']\n",
      "[b'mani', b'feminist']\n",
      "[b'mani', b'feminist', b'take']\n",
      "[b'mani', b'feminist', b'take', b'screw']\n",
      "[b'mani', b'feminist', b'take', b'screw', b'light']\n",
      "[b'mani', b'feminist', b'take', b'screw', b'light', b'bulb']\n",
      "[b'mani', b'feminist', b'take', b'screw', b'light', b'bulb', b'that']\n",
      "[b'mani', b'feminist', b'take', b'screw', b'light', b'bulb', b'that', b'funni']\n"
     ]
    }
   ],
   "source": [
    "final_string=[]\n",
    "for sent in t['joke'][:2]:\n",
    "    filtered_sentence=[]\n",
    "    for cleaned_words in cleanpunc(sent).split():\n",
    "            if(len(cleaned_words)>2):    \n",
    "                if(cleaned_words.lower() not in stop):\n",
    "                    s=(sno.stem(cleaned_words.lower())).encode('utf8')\n",
    "                    filtered_sentence.append(s)\n",
    "                    print(filtered_sentence)\n",
    "        # we have used cleanpunc(w).split(), one more split function here because consider w=\"abc.def\", cleanpunc(w) will return \"abc def\"\n",
    "            # if we dont use .split() function then we will be considring \"abc def\" as a single word, but if you use .split() function we will get \"abc\", \"def\"\n",
    "        \n",
    "    str1 = b\" \".join(filtered_sentence) #final string of cleaned words\n",
    "        #print(\"***********************************************************************\")\n",
    "    final_string.append(str1)"
   ]
  },
  {
   "cell_type": "code",
   "execution_count": 76,
   "metadata": {},
   "outputs": [
    {
     "data": {
      "text/plain": [
       "[b'what simpson web address slash slash backslash slash slash escap',\n",
       " b'mani feminist take screw light bulb that funni']"
      ]
     },
     "execution_count": 76,
     "metadata": {},
     "output_type": "execute_result"
    }
   ],
   "source": [
    "final_string\n"
   ]
  },
  {
   "cell_type": "code",
   "execution_count": 81,
   "metadata": {},
   "outputs": [
    {
     "data": {
      "text/html": [
       "<div>\n",
       "<style scoped>\n",
       "    .dataframe tbody tr th:only-of-type {\n",
       "        vertical-align: middle;\n",
       "    }\n",
       "\n",
       "    .dataframe tbody tr th {\n",
       "        vertical-align: top;\n",
       "    }\n",
       "\n",
       "    .dataframe thead th {\n",
       "        text-align: right;\n",
       "    }\n",
       "</style>\n",
       "<table border=\"1\" class=\"dataframe\">\n",
       "  <thead>\n",
       "    <tr style=\"text-align: right;\">\n",
       "      <th></th>\n",
       "      <th>Rating</th>\n",
       "      <th>joke</th>\n",
       "      <th>len</th>\n",
       "      <th>cjoke</th>\n",
       "    </tr>\n",
       "    <tr>\n",
       "      <th>joke_id</th>\n",
       "      <th></th>\n",
       "      <th></th>\n",
       "      <th></th>\n",
       "      <th></th>\n",
       "    </tr>\n",
       "  </thead>\n",
       "  <tbody>\n",
       "    <tr>\n",
       "      <th>1</th>\n",
       "      <td>1</td>\n",
       "      <td>q  whats o  j  simpsons web address a  slash  ...</td>\n",
       "      <td>88</td>\n",
       "      <td>b'what simpson web address slash slash backsla...</td>\n",
       "    </tr>\n",
       "    <tr>\n",
       "      <th>2</th>\n",
       "      <td>1</td>\n",
       "      <td>how many feminists does it take to screw in a ...</td>\n",
       "      <td>75</td>\n",
       "      <td>b'mani feminist take screw light bulb that funni'</td>\n",
       "    </tr>\n",
       "    <tr>\n",
       "      <th>3</th>\n",
       "      <td>1</td>\n",
       "      <td>q  did you hear about the dyslexic devil worsh...</td>\n",
       "      <td>81</td>\n",
       "      <td>b'hear dyslex devil worship sold soul santa'</td>\n",
       "    </tr>\n",
       "    <tr>\n",
       "      <th>4</th>\n",
       "      <td>0</td>\n",
       "      <td>they asked the japanese visitor if they have e...</td>\n",
       "      <td>99</td>\n",
       "      <td>b'ask japanes visitor elect countri everi morn...</td>\n",
       "    </tr>\n",
       "    <tr>\n",
       "      <th>5</th>\n",
       "      <td>1</td>\n",
       "      <td>q: what did the blind person say when given so...</td>\n",
       "      <td>84</td>\n",
       "      <td>b'blind person say given matzah hell wrote'</td>\n",
       "    </tr>\n",
       "  </tbody>\n",
       "</table>\n",
       "</div>"
      ],
      "text/plain": [
       "         Rating                                               joke  len  \\\n",
       "joke_id                                                                   \n",
       "1             1  q  whats o  j  simpsons web address a  slash  ...   88   \n",
       "2             1  how many feminists does it take to screw in a ...   75   \n",
       "3             1  q  did you hear about the dyslexic devil worsh...   81   \n",
       "4             0  they asked the japanese visitor if they have e...   99   \n",
       "5             1  q: what did the blind person say when given so...   84   \n",
       "\n",
       "                                                     cjoke  \n",
       "joke_id                                                     \n",
       "1        b'what simpson web address slash slash backsla...  \n",
       "2        b'mani feminist take screw light bulb that funni'  \n",
       "3             b'hear dyslex devil worship sold soul santa'  \n",
       "4        b'ask japanes visitor elect countri everi morn...  \n",
       "5              b'blind person say given matzah hell wrote'  "
      ]
     },
     "execution_count": 81,
     "metadata": {},
     "output_type": "execute_result"
    }
   ],
   "source": [
    "cl=[]\n",
    "for i in t['joke']:\n",
    "    c=[]\n",
    "    for j in i.split():\n",
    "        if len(j)>2:\n",
    "            if(j.lower() not in stop):\n",
    "                s=(sno.stem(j.lower())).encode('utf8')\n",
    "                c.append(s)\n",
    "    st=b\" \".join(c)\n",
    "    cl.append(st)\n",
    "t['cjoke']=cl\n",
    "t.head()"
   ]
  },
  {
   "cell_type": "code",
   "execution_count": 88,
   "metadata": {},
   "outputs": [
    {
     "data": {
      "text/html": [
       "<div>\n",
       "<style scoped>\n",
       "    .dataframe tbody tr th:only-of-type {\n",
       "        vertical-align: middle;\n",
       "    }\n",
       "\n",
       "    .dataframe tbody tr th {\n",
       "        vertical-align: top;\n",
       "    }\n",
       "\n",
       "    .dataframe thead th {\n",
       "        text-align: right;\n",
       "    }\n",
       "</style>\n",
       "<table border=\"1\" class=\"dataframe\">\n",
       "  <thead>\n",
       "    <tr style=\"text-align: right;\">\n",
       "      <th></th>\n",
       "      <th>Rating</th>\n",
       "      <th>len</th>\n",
       "      <th>cjoke</th>\n",
       "    </tr>\n",
       "    <tr>\n",
       "      <th>joke_id</th>\n",
       "      <th></th>\n",
       "      <th></th>\n",
       "      <th></th>\n",
       "    </tr>\n",
       "  </thead>\n",
       "  <tbody>\n",
       "    <tr>\n",
       "      <th>1</th>\n",
       "      <td>1</td>\n",
       "      <td>64</td>\n",
       "      <td>b'what simpson web address slash slash backsla...</td>\n",
       "    </tr>\n",
       "    <tr>\n",
       "      <th>2</th>\n",
       "      <td>1</td>\n",
       "      <td>46</td>\n",
       "      <td>b'mani feminist take screw light bulb that funni'</td>\n",
       "    </tr>\n",
       "    <tr>\n",
       "      <th>3</th>\n",
       "      <td>1</td>\n",
       "      <td>41</td>\n",
       "      <td>b'hear dyslex devil worship sold soul santa'</td>\n",
       "    </tr>\n",
       "    <tr>\n",
       "      <th>4</th>\n",
       "      <td>0</td>\n",
       "      <td>51</td>\n",
       "      <td>b'ask japanes visitor elect countri everi morn...</td>\n",
       "    </tr>\n",
       "    <tr>\n",
       "      <th>5</th>\n",
       "      <td>1</td>\n",
       "      <td>40</td>\n",
       "      <td>b'blind person say given matzah hell wrote'</td>\n",
       "    </tr>\n",
       "  </tbody>\n",
       "</table>\n",
       "</div>"
      ],
      "text/plain": [
       "         Rating  len                                              cjoke\n",
       "joke_id                                                                \n",
       "1             1   64  b'what simpson web address slash slash backsla...\n",
       "2             1   46  b'mani feminist take screw light bulb that funni'\n",
       "3             1   41       b'hear dyslex devil worship sold soul santa'\n",
       "4             0   51  b'ask japanes visitor elect countri everi morn...\n",
       "5             1   40        b'blind person say given matzah hell wrote'"
      ]
     },
     "execution_count": 88,
     "metadata": {},
     "output_type": "execute_result"
    }
   ],
   "source": [
    "t=t.drop('joke',axis=1)\n",
    "t['len']=t['cjoke'].apply(len)\n",
    "t.head()"
   ]
  },
  {
   "cell_type": "code",
   "execution_count": 89,
   "metadata": {},
   "outputs": [],
   "source": [
    "t.to_csv('finaljoke')"
   ]
  },
  {
   "cell_type": "markdown",
   "metadata": {},
   "source": [
    "\n",
    "# This is our final data after cleaning and rearrangement"
   ]
  },
  {
   "cell_type": "code",
   "execution_count": 3,
   "metadata": {},
   "outputs": [
    {
     "data": {
      "text/html": [
       "<div>\n",
       "<style scoped>\n",
       "    .dataframe tbody tr th:only-of-type {\n",
       "        vertical-align: middle;\n",
       "    }\n",
       "\n",
       "    .dataframe tbody tr th {\n",
       "        vertical-align: top;\n",
       "    }\n",
       "\n",
       "    .dataframe thead th {\n",
       "        text-align: right;\n",
       "    }\n",
       "</style>\n",
       "<table border=\"1\" class=\"dataframe\">\n",
       "  <thead>\n",
       "    <tr style=\"text-align: right;\">\n",
       "      <th></th>\n",
       "      <th>Rating</th>\n",
       "      <th>len</th>\n",
       "      <th>cjoke</th>\n",
       "    </tr>\n",
       "    <tr>\n",
       "      <th>joke_id</th>\n",
       "      <th></th>\n",
       "      <th></th>\n",
       "      <th></th>\n",
       "    </tr>\n",
       "  </thead>\n",
       "  <tbody>\n",
       "    <tr>\n",
       "      <th>1</th>\n",
       "      <td>1</td>\n",
       "      <td>64</td>\n",
       "      <td>b'what simpson web address slash slash backsla...</td>\n",
       "    </tr>\n",
       "    <tr>\n",
       "      <th>2</th>\n",
       "      <td>1</td>\n",
       "      <td>46</td>\n",
       "      <td>b'mani feminist take screw light bulb that funni'</td>\n",
       "    </tr>\n",
       "    <tr>\n",
       "      <th>3</th>\n",
       "      <td>1</td>\n",
       "      <td>41</td>\n",
       "      <td>b'hear dyslex devil worship sold soul santa'</td>\n",
       "    </tr>\n",
       "    <tr>\n",
       "      <th>4</th>\n",
       "      <td>0</td>\n",
       "      <td>51</td>\n",
       "      <td>b'ask japanes visitor elect countri everi morn...</td>\n",
       "    </tr>\n",
       "    <tr>\n",
       "      <th>5</th>\n",
       "      <td>1</td>\n",
       "      <td>40</td>\n",
       "      <td>b'blind person say given matzah hell wrote'</td>\n",
       "    </tr>\n",
       "  </tbody>\n",
       "</table>\n",
       "</div>"
      ],
      "text/plain": [
       "         Rating  len                                              cjoke\n",
       "joke_id                                                                \n",
       "1             1   64  b'what simpson web address slash slash backsla...\n",
       "2             1   46  b'mani feminist take screw light bulb that funni'\n",
       "3             1   41       b'hear dyslex devil worship sold soul santa'\n",
       "4             0   51  b'ask japanes visitor elect countri everi morn...\n",
       "5             1   40        b'blind person say given matzah hell wrote'"
      ]
     },
     "execution_count": 3,
     "metadata": {},
     "output_type": "execute_result"
    }
   ],
   "source": [
    "f=pd.read_csv('finaljoke',index_col='joke_id')\n",
    "f.head()"
   ]
  },
  {
   "cell_type": "markdown",
   "metadata": {},
   "source": [
    "# We are using Bag of Words technique on cjoke text "
   ]
  },
  {
   "cell_type": "code",
   "execution_count": 5,
   "metadata": {},
   "outputs": [],
   "source": [
    "from sklearn.feature_extraction.text import CountVectorizer\n",
    "cv = CountVectorizer()\n",
    "X=f.cjoke\n",
    "y=f.Rating\n",
    "X=cv.fit_transform(X)"
   ]
  },
  {
   "cell_type": "markdown",
   "metadata": {},
   "source": [
    "# Splitting the data into train and test set"
   ]
  },
  {
   "cell_type": "code",
   "execution_count": 6,
   "metadata": {},
   "outputs": [],
   "source": [
    "from sklearn.model_selection import train_test_split\n",
    "X_train, X_test, y_train, y_test = train_test_split(X, y,test_size=0.3,random_state=101)"
   ]
  },
  {
   "cell_type": "markdown",
   "metadata": {},
   "source": [
    "# We are using Naive Bayes classifier"
   ]
  },
  {
   "cell_type": "code",
   "execution_count": 8,
   "metadata": {},
   "outputs": [],
   "source": [
    "from sklearn.naive_bayes import MultinomialNB\n",
    "nb = MultinomialNB()\n",
    "nb.fit(X_train,y_train)\n",
    "predictions = nb.predict(X_test)"
   ]
  },
  {
   "cell_type": "markdown",
   "metadata": {},
   "source": [
    "# Checking the accuracy"
   ]
  },
  {
   "cell_type": "code",
   "execution_count": 9,
   "metadata": {},
   "outputs": [
    {
     "name": "stdout",
     "output_type": "stream",
     "text": [
      "[[ 8  6]\n",
      " [12 16]]\n",
      "\n",
      "\n",
      "             precision    recall  f1-score   support\n",
      "\n",
      "          0       0.40      0.57      0.47        14\n",
      "          1       0.73      0.57      0.64        28\n",
      "\n",
      "avg / total       0.62      0.57      0.58        42\n",
      "\n"
     ]
    }
   ],
   "source": [
    "from sklearn.metrics import confusion_matrix,classification_report\n",
    "print(confusion_matrix(y_test,predictions))\n",
    "print('\\n')\n",
    "print(classification_report(y_test,predictions))"
   ]
  },
  {
   "cell_type": "markdown",
   "metadata": {},
   "source": [
    "## Our accuracy is around 60% which is not good. Now let's try using TfidTransformer to add weight to the vector that we got from bag of words and we will standardised it by dividing every element with their std deviation. We are going to use pipeline feature."
   ]
  },
  {
   "cell_type": "code",
   "execution_count": 11,
   "metadata": {},
   "outputs": [
    {
     "data": {
      "text/plain": [
       "Pipeline(memory=None,\n",
       "     steps=[('bow', CountVectorizer(analyzer='word', binary=False, decode_error='strict',\n",
       "        dtype=<class 'numpy.int64'>, encoding='utf-8', input='content',\n",
       "        lowercase=True, max_df=1.0, max_features=None, min_df=1,\n",
       "        ngram_range=(1, 1), preprocessor=None, stop_words=None,\n",
       "        strip_...=False, with_std=True)), ('classifier', MultinomialNB(alpha=1.0, class_prior=None, fit_prior=True))])"
      ]
     },
     "execution_count": 11,
     "metadata": {},
     "output_type": "execute_result"
    }
   ],
   "source": [
    "from sklearn.feature_extraction.text import  TfidfTransformer\n",
    "from sklearn.preprocessing import StandardScaler\n",
    "from sklearn.pipeline import Pipeline\n",
    "pipeline = Pipeline([\n",
    "    ('bow', CountVectorizer()),  # strings to token integer counts\n",
    "    ('tfidf', TfidfTransformer()),\n",
    "    ('standscaler',StandardScaler(with_mean=False)),# integer counts to weighted TF-IDF scores\n",
    "    ('classifier', MultinomialNB()),  # train on TF-IDF vectors w/ Naive Bayes classifier\n",
    "])\n",
    "X = f.cjoke\n",
    "y = f.Rating\n",
    "X_train, X_test, y_train, y_test = train_test_split(X, y,test_size=0.3,random_state=101)\n",
    "pipeline.fit(X_train,y_train)"
   ]
  },
  {
   "cell_type": "code",
   "execution_count": 12,
   "metadata": {},
   "outputs": [
    {
     "name": "stdout",
     "output_type": "stream",
     "text": [
      "[[ 5  9]\n",
      " [ 3 25]]\n",
      "             precision    recall  f1-score   support\n",
      "\n",
      "          0       0.62      0.36      0.45        14\n",
      "          1       0.74      0.89      0.81        28\n",
      "\n",
      "avg / total       0.70      0.71      0.69        42\n",
      "\n"
     ]
    }
   ],
   "source": [
    "predictions = pipeline.predict(X_test)\n",
    "print(confusion_matrix(y_test,predictions))\n",
    "print(classification_report(y_test,predictions))"
   ]
  },
  {
   "cell_type": "markdown",
   "metadata": {},
   "source": [
    "Now we are getting around 70%. It is still not enough but keep in mind that we have a small dataset and you can try another techniques like word2vec to get better results."
   ]
  }
 ],
 "metadata": {
  "kernelspec": {
   "display_name": "Python 3",
   "language": "python",
   "name": "python3"
  },
  "language_info": {
   "codemirror_mode": {
    "name": "ipython",
    "version": 3
   },
   "file_extension": ".py",
   "mimetype": "text/x-python",
   "name": "python",
   "nbconvert_exporter": "python",
   "pygments_lexer": "ipython3",
   "version": "3.6.4"
  }
 },
 "nbformat": 4,
 "nbformat_minor": 2
}
